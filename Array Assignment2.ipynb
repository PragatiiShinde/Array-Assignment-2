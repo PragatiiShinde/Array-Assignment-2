{
 "cells": [
  {
   "cell_type": "markdown",
   "id": "beb9de10",
   "metadata": {},
   "source": [
    "Question 1\n",
    "Given an integer array nums of 2n integers, group these integers into n pairs (a1, b1), (a2, b2),..., (an, bn) such that the sum of min(ai, bi) for all i is maximized. Return the maximized sum.\n",
    "\n",
    "Example 1:\n",
    "Input: nums = [1,4,3,2]\n",
    "Output: 4"
   ]
  },
  {
   "cell_type": "code",
   "execution_count": 3,
   "id": "756ba3dd",
   "metadata": {},
   "outputs": [
    {
     "name": "stdout",
     "output_type": "stream",
     "text": [
      "The maximum sum is: 4\n"
     ]
    }
   ],
   "source": [
    "class Solution(object):\n",
    "   def arrayPairSum(self, a):\n",
    "      res = 0\n",
    "      a = sorted(a)\n",
    "      for i in range(0,len(a)-1,2):\n",
    "         res += a[i]\n",
    "      return res\n",
    "ob1 = Solution()\n",
    "arr = [1,4,3,2]\n",
    "\n",
    "print(\"The maximum sum is:\",ob1.arrayPairSum(arr))"
   ]
  },
  {
   "cell_type": "code",
   "execution_count": null,
   "id": "4304d716",
   "metadata": {},
   "outputs": [],
   "source": []
  },
  {
   "cell_type": "markdown",
   "id": "3d47b7fe",
   "metadata": {},
   "source": [
    "Question 4\n",
    "You have a long flowerbed in which some of the plots are planted, and some are not.\n",
    "However, flowers cannot be planted in adjacent plots.\n",
    "Given an integer array flowerbed containing 0's and 1's, where 0 means empty and 1 means not empty, and an integer n, return true if n new flowers can be planted in the flowerbed without violating the no-adjacent-flowers rule and false otherwise.\n"
   ]
  },
  {
   "cell_type": "code",
   "execution_count": 26,
   "id": "08562730",
   "metadata": {},
   "outputs": [
    {
     "name": "stdout",
     "output_type": "stream",
     "text": [
      "True\n"
     ]
    }
   ],
   "source": [
    "from typing import List\n",
    "class Solution:\n",
    "    def canPlaceFlowers(self, flowerbed: List[int], n: int) -> bool:\n",
    "        for i, flower in enumerate(flowerbed):\n",
    "            if flower == 0 and (i == 0 or flowerbed[i - 1] == 0) and (i == len(flowerbed) - 1 or flowerbed[i + 1] == 0):\n",
    "                flowerbed[i] = 1\n",
    "                n -= 1\n",
    "            if n <= 0:\n",
    "                return True\n",
    "\n",
    "        return False\n",
    "Solution=Solution()\n",
    "flowerbed = [1,0,0,0,1]\n",
    "print(Solution.canPlaceFlowers(flowerbed,1))\n"
   ]
  },
  {
   "cell_type": "markdown",
   "id": "02f0139b",
   "metadata": {},
   "source": [
    "Question 5\n",
    "Given an integer array nums, find three numbers whose product is maximum and return the maximum product."
   ]
  },
  {
   "cell_type": "code",
   "execution_count": 9,
   "id": "0611b4a2",
   "metadata": {},
   "outputs": [
    {
     "name": "stdout",
     "output_type": "stream",
     "text": [
      "Maximum product is 6\n"
     ]
    }
   ],
   "source": [
    "import sys\n",
    " \n",
    "# Function to find a maximum\n",
    "# product of a triplet in array\n",
    "# of integers of size n\n",
    "def maxProduct(arr, n):\n",
    " \n",
    "    # if size is less than 3,\n",
    "    # no triplet exists\n",
    "    if n < 3:\n",
    "        return -1\n",
    " \n",
    "    # will contain max product\n",
    "    max_product = -(sys.maxsize - 1)\n",
    "     \n",
    "    for i in range(0, n - 2):\n",
    "        for j in range(i + 1, n - 1):\n",
    "            for k in range(j + 1, n):\n",
    "                max_product = max(\n",
    "                    max_product, arr[i]\n",
    "                    * arr[j] * arr[k])\n",
    " \n",
    "    return max_product\n",
    " \n",
    "# Driver Program\n",
    "arr = [1,2,3]\n",
    "n = len(arr)\n",
    " \n",
    "max = maxProduct(arr, n)\n",
    " \n",
    "if max == -1:\n",
    "    print(\"No Triplet Exits\")\n",
    "else:\n",
    "    print(\"Maximum product is\", max)\n",
    " "
   ]
  },
  {
   "cell_type": "markdown",
   "id": "9a98628b",
   "metadata": {},
   "source": [
    "Question 6 Given an array of integers nums which is sorted in ascending order, and an integer target,\n",
    "write a function to search target in nums. If target exists, then return its index. Otherwise,\n",
    "return -1.\n",
    "\n",
    "You must write an algorithm with O(log n) runtime complexity."
   ]
  },
  {
   "cell_type": "code",
   "execution_count": 8,
   "id": "76f96621",
   "metadata": {},
   "outputs": [
    {
     "name": "stdout",
     "output_type": "stream",
     "text": [
      "4\n"
     ]
    }
   ],
   "source": [
    "def targetFinder(nums,target):\n",
    "    if target in nums:return nums.index(target)\n",
    "    else:return -1\n",
    "A= [-1,0,3,5,9,12]\n",
    "print(targetFinder(A,9))"
   ]
  },
  {
   "cell_type": "markdown",
   "id": "0d38669f",
   "metadata": {},
   "source": [
    "Question 7\n",
    "An array is monotonic if it is either monotone increasing or monotone decreasing.\n",
    "\n",
    "An array nums is monotone increasing if for all i <= j, nums[i] <= nums[j]. An array nums is\n",
    "monotone decreasing if for all i <= j, nums[i] >= nums[j].\n",
    "\n",
    "Given an integer array nums, return true if the given array is monotonic, or false otherwise.\n"
   ]
  },
  {
   "cell_type": "code",
   "execution_count": 4,
   "id": "a57fabb8",
   "metadata": {},
   "outputs": [
    {
     "name": "stdout",
     "output_type": "stream",
     "text": [
      "True\n"
     ]
    }
   ],
   "source": [
    "def isMonotonic(A):\n",
    "    x, y = [], []\n",
    "    x.extend(A)\n",
    "    y.extend(A)\n",
    "    x.sort()\n",
    "    y.sort(reverse=True)\n",
    "    if(x == A or y == A):\n",
    "        return True\n",
    "    return False\n",
    " \n",
    " \n",
    "# Driver program\n",
    "A = [1,2,2,3]\n",
    " \n",
    "# Print required result\n",
    "print(isMonotonic(A))"
   ]
  },
  {
   "cell_type": "code",
   "execution_count": null,
   "id": "7a6f8e27",
   "metadata": {},
   "outputs": [],
   "source": []
  }
 ],
 "metadata": {
  "kernelspec": {
   "display_name": "Python 3 (ipykernel)",
   "language": "python",
   "name": "python3"
  },
  "language_info": {
   "codemirror_mode": {
    "name": "ipython",
    "version": 3
   },
   "file_extension": ".py",
   "mimetype": "text/x-python",
   "name": "python",
   "nbconvert_exporter": "python",
   "pygments_lexer": "ipython3",
   "version": "3.9.7"
  }
 },
 "nbformat": 4,
 "nbformat_minor": 5
}
